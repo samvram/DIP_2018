{
 "cells": [
  {
   "cell_type": "code",
   "execution_count": null,
   "metadata": {
    "collapsed": true
   },
   "outputs": [],
   "source": [
    "from skimage import io                    # utilities to read and write images in various formats\n",
    "import numpy as np                        # array manipulation package\n",
    "import matplotlib.pylab as plt            # plotting package\n",
    "%matplotlib inline\n",
    "plt.rcParams['figure.figsize'] = (15, 10) # set default figure size\n",
    "plt.rcParams['image.cmap'] = 'gray'       # set default colormap to gray"
   ]
  },
  {
   "cell_type": "markdown",
   "metadata": {},
   "source": [
    "# Digital Image Processing - Programming Assignment \\#1\n",
    "\n",
    "The following progamming assignment involves basic histogram operation and spatial image (sharpening) filtering tasks. The deadline for returning your work is **31 October 2018 at 23:59. Please, follow carefully the submission instructions given in the end of this notebook.** You are encouraged to seek information in other places than the course book and lecture material but remember list all your sources under references.\n",
    "\n",
    "If you experience problems that you cannot solve using the course material, including the provided pre-tutorials, or related Python documentation, or have any questions regarding to the programming assignments in general, please **do not hesitate to contact the course assistant** by e-mail at address `Soumya Sara John <soumyasara100@gmail.com>\n",
    "` or by visiting the office. You can also use piazza,  which is probably the fastest way to get help."
   ]
  },
  {
   "cell_type": "markdown",
   "metadata": {},
   "source": [
    "**At first, fill in your personal details below.**\n",
    "\n",
    "# Personal details:\n",
    "\n",
    "* **Name(s) and student ID(s):** `PUT YOUR NAME(S) AND STUDENT ID(S) HERE.`\n",
    "* **Contact information:** `PUT YOUR EMAIL ADDRESS(ES) HERE.`"
   ]
  },
  {
   "cell_type": "markdown",
   "metadata": {},
   "source": [
    "# 1. Histogram operations\n",
    "\n",
    "In the following, you will have to analyze two images, `cameraman.tif` and `pout.tif`, and their histograms, and to compare the results of two histogram operations, namely histogram equalization and stretching.\n",
    "\n",
    "Now, perform the following operations in the reserved code cells and answer to the questions written in bold into the reserved spaces."
   ]
  },
  {
   "cell_type": "markdown",
   "metadata": {},
   "source": [
    "**1.1. Display the images `cameraman.tif` and `pout.tif` and their histograms in the same figure.**\n",
    "\n",
    "Hint: You can plot the histogram of an image with matplotlib's __[`hist()`](https://matplotlib.org/devdocs/api/_as_gen/matplotlib.pyplot.hist.html)__ function but please note that you have to ravel the pixels of the 2D image into 1D array first."
   ]
  },
  {
   "cell_type": "code",
   "execution_count": null,
   "metadata": {
    "collapsed": true
   },
   "outputs": [],
   "source": [
    "# read the test images\n",
    "\n",
    "# display the images and their histograms in the same figure\n"
   ]
  },
  {
   "cell_type": "markdown",
   "metadata": {},
   "source": [
    "**What can you say about the contrast of the images based on their histograms?**\n",
    "\n",
    "`REPLACE THIS TEXT WITH YOUR ANSWER.`"
   ]
  },
  {
   "cell_type": "markdown",
   "metadata": {},
   "source": [
    "### Histogram equalization\n",
    "\n",
    "**1.2. Perform histogram equalization with the function __[`exposure.equalize_hist()`](http://scikit-image.org/docs/dev/api/skimage.exposure.html#skimage.exposure.equalize_hist)__ and display the resulting images and their histograms in the same figure.**\n",
    "\n",
    "Hint: Please note that `exposure.equalize_hist()` function returns `float64` image. Therefore, you need to __[convert the image back to `uint8`](http://scikit-image.org/docs/dev/user_guide/data_types.html)__ after histogram equalization."
   ]
  },
  {
   "cell_type": "code",
   "execution_count": null,
   "metadata": {
    "collapsed": true
   },
   "outputs": [],
   "source": [
    "from skimage import exposure\n",
    "from skimage import img_as_ubyte\n",
    "\n",
    "# perform histogram equalization and convert data type from 'float64' back to 'uint8' after histogram equalization\n",
    "\n",
    "# display resulting images and their histograms in the same figure\n"
   ]
  },
  {
   "cell_type": "markdown",
   "metadata": {},
   "source": [
    "**Did histogram equalization help in increasing image contrast? Why or why not?**\n",
    "\n",
    "`REPLACE THIS TEXT WITH YOUR ANSWER.`"
   ]
  },
  {
   "cell_type": "markdown",
   "metadata": {},
   "source": [
    "### Contrast stretching\n",
    "\n",
    "Another way of improving the contrast in an image is to simply stretch the original pixel values over an extended dynamic range using a linear scaling function. For instance, in case of an `uint8` image, the desired value range of a contrast-stretched image could be the full range from 0 to 255. \n",
    "\n",
    "Intuitively, one could perform contrast-stretching by selecting the minimum and maximum values of the original image and map these values to 0 and 255, respectively, and linearly scale all other pixel values in between accordingly. However, even a single outlier pixel value (high or low) can affect the input scaling range too much when outcome of the histogram stretching is not particularly good.\n",
    "\n",
    "A more robust approach is to map the intensity values so that e.g. 1st and 99th percentiles of the histogram are saturated at the minimum and maximum values of the desired intensity range. In other words, 1% of the pixels of both low and high intensities will be mapped to 0 and 255 in the contrast-stretched image while rest are scaled linearly in between."
   ]
  },
  {
   "cell_type": "markdown",
   "metadata": {},
   "source": [
    "**1.3. Now, perform contrast stretching on the original images with the help of functions __[`np.percentile()`](https://docs.scipy.org/doc/numpy-dev/reference/generated/numpy.percentile.html)__ and __[`exposure.rescale_intensity()`](http://scikit-image.org/docs/dev/api/skimage.exposure.html#skimage.exposure.rescale_intensity)__ so that the full range from 0 and 255 is utilized based on the 1st and 99th percentiles of their histograms. Then, display the resulting images and their histograms in the same figure.**"
   ]
  },
  {
   "cell_type": "code",
   "execution_count": null,
   "metadata": {
    "collapsed": true
   },
   "outputs": [],
   "source": [
    "# find the 1st and 99th percentiles of each image\n",
    "\n",
    "# rescale the intensities of both images to full 'uint8' range [0, 255] based on their 1st and 99th percentiles\n",
    "\n",
    "# display resulting images and their histograms\n"
   ]
  },
  {
   "cell_type": "markdown",
   "metadata": {},
   "source": [
    "### Comparison\n",
    "\n",
    "**1.4. Finally, display the original `cameraman.tif` image, and its histogram-equalized and contrast-stretched versions and the corresponding histograms into one figure (in total six images in one figure). Do the same for `pout.tif` as well.**"
   ]
  },
  {
   "cell_type": "code",
   "execution_count": null,
   "metadata": {
    "collapsed": true
   },
   "outputs": [],
   "source": [
    "# 6 subplots for 'cameraman.tif'\n",
    "\n",
    "# 6 subplots for 'pout.tif'"
   ]
  },
  {
   "cell_type": "markdown",
   "metadata": {},
   "source": [
    "**Which method gives better result for each of the two images in** ***your*** **opinion? Why??**\n",
    "\n",
    "`REPLACE THIS TEXT WITH YOUR ANSWER.`"
   ]
  },
  {
   "cell_type": "markdown",
   "metadata": {
    "collapsed": true
   },
   "source": [
    "# 2. Image sharpening\n",
    "\n",
    "First, read the part concerning sharpening spatial transforms in the lecture notes or in the course book.\n",
    "\n",
    "In this exercise, your task is to perform a sharpening transform to the image `moonunsharp.tif` in spatial domain enhancing the details, like edges, in the original grayscale image. The use of built-in functions that perform image sharpening from scratch, like `scipy.misc.imfilter()`, is forbidden but functions like __[`scipy.signal.convolve2d()`](https://docs.scipy.org/doc/scipy/reference/generated/scipy.signal.convolve2d.html)__ can be used for the task. You can select some method presented in the lecture notes or the course book, e.g. use Laplacian operator and convolution, for sharpening the test image. \n",
    "\n",
    "Please note that it does not matter what method you use or how “good” the sharpening looks as long as the sharpening can be observed in the end result. An example result achieved with __[`scipy.misc.imfilter()`](https://docs.scipy.org/doc/scipy-0.18.1/reference/generated/scipy.misc.imfilter.html)__ is shown below:"
   ]
  },
  {
   "cell_type": "code",
   "execution_count": null,
   "metadata": {
    "collapsed": true
   },
   "outputs": [],
   "source": [
    "# image sharpening example using 'scipy.misc.imfilter()' function\n",
    "\n",
    "from scipy.misc import imfilter\n",
    "\n",
    "moon = io.imread('moonunsharp.tif')\n",
    "\n",
    "moon_sharp_example = imfilter(moon, 'sharpen')\n",
    "\n",
    "fig, ax = plt.subplots(1, 2)\n",
    "ax[0].imshow(moon, cmap=plt.get_cmap('gray'))\n",
    "ax[0].set_title('original')\n",
    "ax[0].axis('off')\n",
    "ax[1].imshow(moon_sharp_example, cmap=plt.get_cmap('gray'))\n",
    "ax[1].set_title('sharpened')\n",
    "ax[1].axis('off')\n",
    "fig.tight_layout()"
   ]
  },
  {
   "cell_type": "markdown",
   "metadata": {},
   "source": [
    "**2.1. Now, implement your own image sharpening transform and apply it on the test image.**\n",
    "\n",
    "Hint: Like in the previous task, please note the __[image data type (`dtype`) and corresponding value range](http://scikit-image.org/docs/dev/user_guide/data_types.html)__ after filtering/sharpening as overflow might occur (see pre-tutorials)!"
   ]
  },
  {
   "cell_type": "code",
   "execution_count": null,
   "metadata": {
    "collapsed": true
   },
   "outputs": [],
   "source": [
    "# perform image sharpening using e.g. a Laplacian mask and convolution\n"
   ]
  },
  {
   "cell_type": "markdown",
   "metadata": {},
   "source": [
    "**2.2. Display the original and sharpened moon images in the same figure.**"
   ]
  },
  {
   "cell_type": "code",
   "execution_count": null,
   "metadata": {
    "collapsed": true
   },
   "outputs": [],
   "source": [
    "# plot original and sharpened moon images in the same figure\n"
   ]
  },
  {
   "cell_type": "markdown",
   "metadata": {},
   "source": [
    "# Aftermath\n",
    "Finally, fill your answers to the following questions:"
   ]
  },
  {
   "cell_type": "markdown",
   "metadata": {},
   "source": [
    "**How much time did you need to complete this exercise?**\n",
    "\n",
    "`REPLACE THIS TEXT WITH YOUR ANSWER.`"
   ]
  },
  {
   "cell_type": "markdown",
   "metadata": {},
   "source": [
    "**Did you experience any problems with the exercise? Was there enough help available? Should this notebook be more (or less) detailed?**\n",
    "\n",
    "`REPLACE THIS TEXT WITH YOUR ANSWER.`"
   ]
  },
  {
   "cell_type": "markdown",
   "metadata": {},
   "source": [
    "# References\n",
    "`LIST YOUR POSSIBLE REFERENCES HERE!`"
   ]
  },
  {
   "cell_type": "markdown",
   "metadata": {
    "collapsed": true
   },
   "source": [
    "# Submission\n",
    "\n",
    "1. Click on the menu `Kernel -> Restart & Clear Output` to clear all outputs and variables, etc.\n",
    "2. Compress the resulting Jupyter notebook (`DIP_PA1.ipynb` file) into **`DIP_PA1_[student number(s)].zip`** (e.g. `DIP_PA1_1234567.zip` if solo work or `DIP_PA1_1234567-7654321.zip` if pair work).\n",
    "3. Upload the zip file to: https://www.dropbox.com/request/zILWeoSCu2XBLV2iBF2n"
   ]
  },
  {
   "cell_type": "code",
   "execution_count": null,
   "metadata": {
    "collapsed": true
   },
   "outputs": [],
   "source": []
  }
 ],
 "metadata": {
  "kernelspec": {
   "display_name": "Python 2",
   "language": "python",
   "name": "python2"
  },
  "language_info": {
   "codemirror_mode": {
    "name": "ipython",
    "version": 2
   },
   "file_extension": ".py",
   "mimetype": "text/x-python",
   "name": "python",
   "nbconvert_exporter": "python",
   "pygments_lexer": "ipython2",
   "version": "2.7.15"
  }
 },
 "nbformat": 4,
 "nbformat_minor": 2
}
