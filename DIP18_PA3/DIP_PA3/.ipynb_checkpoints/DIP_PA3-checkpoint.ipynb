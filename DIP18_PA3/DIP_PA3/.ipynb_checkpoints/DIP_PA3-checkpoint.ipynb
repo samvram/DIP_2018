{
 "cells": [
  {
   "cell_type": "code",
   "execution_count": null,
   "metadata": {
    "collapsed": true
   },
   "outputs": [],
   "source": [
    "from skimage import io                    # utilities to read and write images in various formats\n",
    "import numpy as np                        # array manipulation package\n",
    "import matplotlib.pylab as plt            # plotting package\n",
    "%matplotlib inline\n",
    "plt.rcParams['figure.figsize'] = (20, 8)  # set default figure size\n",
    "plt.rcParams['image.cmap'] = 'gray'       # set default colormap to gray"
   ]
  },
  {
   "cell_type": "markdown",
   "metadata": {},
   "source": [
    "# Digital Image Processing - Programming Assignment \\#3\n",
    "\n",
    "The following progamming assignment involves image enhancement tasks in spatial and frequency domains. The deadline for returning your work is **2 Nov 18 at 23:59. Please, follow carefully the submission instructions given in the end of this notebook.** You are encouraged to seek information in other places than the course book and lecture material but remember list all your sources under references.\n",
    "\n",
    "If you experience problems that you cannot solve using the course material, including the provided pre-tutorials, or related Python documentation, or have any questions regarding to the programming assignments in general, please **do not hesitate to contact the course assistant** by e-mail at address `Soumya Sara John <soumyasara100@gmail.com>\n",
    "` or by visiting the office/lab"
   ]
  },
  {
   "cell_type": "markdown",
   "metadata": {},
   "source": [
    "**At first, fill in your personal details below.**\n",
    "\n",
    "# Personal details:\n",
    "\n",
    "* **Name(s) and student ID(s):** `PUT YOUR NAME(S) AND STUDENT ID(S) HERE.`\n",
    "* **Contact information:** `PUT YOUR EMAIL ADDRESS(ES) HERE.`"
   ]
  },
  {
   "cell_type": "markdown",
   "metadata": {},
   "source": [
    "# 4. Image enhancement in spatial domain\n",
    "\n",
    "The gray-scale images `cameraman_noise1.tif` and `cameraman_noise2.tif` and the binary image `logo_noise3.png` contain different types of noise. Your task is to perform image enhancement in spatial domain so that the noise in all three images is reduced. Please note that you cannot to restore the original image (i. e. remove the noise completely). For instance, __[`scipy.ndimage`](https://docs.scipy.org/doc/scipy/reference/ndimage.html)__ and __[`scipy.signal`](https://docs.scipy.org/doc/scipy/reference/signal.html)__ packages provide useful tools for filtering the noise types."
   ]
  },
  {
   "cell_type": "markdown",
   "metadata": {},
   "source": [
    "### Additive Gaussian noise\n",
    "\n",
    "The image `cameraman_noise1.tif` suffers from additive Gaussian noise:"
   ]
  },
  {
   "cell_type": "code",
   "execution_count": null,
   "metadata": {
    "collapsed": true
   },
   "outputs": [],
   "source": [
    "# read image the original 'cameraman.tif' and its noisy version 'cameraman_noise1.tif'\n",
    "orig = io.imread('cameraman.tif').astype('int32')\n",
    "noisy1 = io.imread('cameraman_noise1.tif')\n",
    "\n",
    "# extract the additive noise from the noisy image by subtracting the original image from the noisy one\n",
    "noise1 = noisy1.astype('int32') - orig\n",
    "\n",
    "# display the noisy image, noise and histogram of the noise\n",
    "fig, ax = plt.subplots(1, 3, figsize=(15,5))\n",
    "ax[0].imshow(noisy1, cmap=plt.get_cmap('gray'))\n",
    "ax[0].set_title('cameraman_noise1')\n",
    "ax[0].axis('off')\n",
    "ax[1].imshow(noise1, cmap=plt.get_cmap('gray'))\n",
    "ax[1].set_title('noise1')\n",
    "ax[1].axis('off')\n",
    "ax[2].hist(noise1.flatten(), bins=30, fc='black')\n",
    "ax[2].set_title('Histogram of noise1')\n",
    "fig.tight_layout()"
   ]
  },
  {
   "cell_type": "markdown",
   "metadata": {},
   "source": [
    "**4.1. Perform image enhancement on the `cameraman_noise1.tif` image using a `3x3` mean filter and compute the root mean squared error (RMSE) with the original image before and after filtering the noise. Then, display the noisy, enhanced and original image in the same figure.**\n",
    "\n",
    "Hint: You can perform the filtering by first constructing the `3x3` mean filter mask (`NumPy array`) and then convolving the image with it using e.g. __[`scipy.signal.convolve2d()`](https://docs.scipy.org/doc/scipy/reference/generated/scipy.signal.convolve2d.html)__ function."
   ]
  },
  {
   "cell_type": "code",
   "execution_count": null,
   "metadata": {
    "collapsed": true
   },
   "outputs": [],
   "source": [
    "from scipy import signal\n",
    "\n",
    "# construct mean filter mask\n",
    "\n",
    "\n",
    "# convolve the noisy image with the constructed filter mask\n",
    "\n",
    "\n",
    "# display the noisy, enhanced and original images\n",
    "\n",
    "\n",
    "# print RMSE before and after enhancement\n"
   ]
  },
  {
   "cell_type": "markdown",
   "metadata": {},
   "source": [
    "**4.2. Perform image enhancement on the `cameraman_noise1.tif` image a `3x3` __[median filter](https://docs.scipy.org/doc/scipy/reference/generated/scipy.ndimage.median_filter.html#scipy.ndimage.median_filter)__ and compute the RMSE with the original image before and after filtering the noise. Then, display the noisy, enhanced and original image in the same figure.**"
   ]
  },
  {
   "cell_type": "code",
   "execution_count": null,
   "metadata": {
    "collapsed": true
   },
   "outputs": [],
   "source": [
    "from scipy.ndimage import median_filter\n",
    "\n",
    "# apply 3x3 median filter on the noisy image image\n",
    "\n",
    "\n",
    "# display the noisy, enhanced and original images\n",
    "\n",
    "\n",
    "# print RMSE before and after enhancement\n"
   ]
  },
  {
   "cell_type": "markdown",
   "metadata": {},
   "source": [
    "**4.3. Perform image enhancement on the `cameraman_noise1.tif` image using a `5x5` __[Wiener filter](https://docs.scipy.org/doc/scipy/reference/generated/scipy.signal.wiener.html)__ and compute the RMSE with the original image before and after filtering the noise. Then, display the noisy, enhanced and original image in the same figure. Please note that you need to convert the input image into `float64` using `astype('float64')` before applying __[`scipy.signal.wiener()`](https://docs.scipy.org/doc/scipy/reference/generated/scipy.signal.wiener.html)__ function!**"
   ]
  },
  {
   "cell_type": "code",
   "execution_count": null,
   "metadata": {
    "collapsed": true
   },
   "outputs": [],
   "source": [
    "# apply 5x5 Wiener filter on the noisy image\n",
    "# first convert the input image to float64 using 'astype('float64')'!\n",
    "\n",
    "\n",
    "# display the noisy, enhanced and original images\n",
    "\n",
    "\n",
    "# print RMSE before and after enhancement\n"
   ]
  },
  {
   "cell_type": "markdown",
   "metadata": {},
   "source": [
    "**4.4. Finally, display the three images obtained with mean, median and Wiener filters in the same figure.**"
   ]
  },
  {
   "cell_type": "code",
   "execution_count": null,
   "metadata": {
    "collapsed": true
   },
   "outputs": [],
   "source": [
    "# display the mean, median and Wiener filtered images\n"
   ]
  },
  {
   "cell_type": "markdown",
   "metadata": {},
   "source": [
    "**Which method gave the best result?**\n",
    "\n",
    "`REPLACE THIS TEXT WITH YOUR ANSWER.`"
   ]
  },
  {
   "cell_type": "markdown",
   "metadata": {},
   "source": [
    "### Salt-and-pepper noise\n",
    "\n",
    "The image `cameraman_noise2.tif` suffers from salt-and-pepper noise:"
   ]
  },
  {
   "cell_type": "code",
   "execution_count": null,
   "metadata": {
    "collapsed": true
   },
   "outputs": [],
   "source": [
    "# read the 'cameraman_noise2.tif' image\n",
    "noisy2 = io.imread('cameraman_noise2.tif')\n",
    "\n",
    "# extract additive noise2\n",
    "noise2 = noisy2.astype('int32') - orig\n",
    "\n",
    "# display the noisy image and additive noise\n",
    "fig, ax = plt.subplots(1, 2)\n",
    "ax[0].imshow(noisy2, cmap=plt.get_cmap('gray'))\n",
    "ax[0].set_title('cameraman_noise2')\n",
    "ax[0].axis('off')\n",
    "ax[1].imshow(noise2, cmap=plt.get_cmap('gray'))\n",
    "ax[1].set_title('noise2')\n",
    "ax[1].axis('off')\n",
    "fig.tight_layout()"
   ]
  },
  {
   "cell_type": "markdown",
   "metadata": {},
   "source": [
    "**4.5. Utilizing your knowledge in image enhancement, choose a proper filter for reducing the noise in the `cameraman_noise2.tif` image and compute the RMSE with the original image before and after filtering the noise. Then, display the noisy, enhanced and original image in the same figure.**"
   ]
  },
  {
   "cell_type": "code",
   "execution_count": null,
   "metadata": {
    "collapsed": true
   },
   "outputs": [],
   "source": [
    "# reduce the noise with the method of your choice\n",
    "\n",
    "\n",
    "# display the noisy, enhanced and original images\n",
    "\n",
    "\n",
    "# print RMSE before and after enhancement\n"
   ]
  },
  {
   "cell_type": "markdown",
   "metadata": {},
   "source": [
    "The binary image `logo_noise3.png` suffers from salt-and-pepper noise as well:"
   ]
  },
  {
   "cell_type": "code",
   "execution_count": null,
   "metadata": {
    "collapsed": true
   },
   "outputs": [],
   "source": [
    "# read 'logo_noise3.png' as binary image\n",
    "noisy3 = io.imread('logo_noise3.png').astype('bool_')\n",
    "\n",
    "# display the noisy binary image\n",
    "fig, ax = plt.subplots(figsize=(10,7))\n",
    "ax.imshow(noisy3, cmap=plt.get_cmap('gray'))\n",
    "ax.set_title('logo_noise3')\n",
    "ax.axis('off')\n",
    "fig.tight_layout()"
   ]
  },
  {
   "cell_type": "markdown",
   "metadata": {},
   "source": [
    "**4.6. Again, utilizing your knowledge in image enhancement, find a way for reducing the noise in the noisy binary image `logo_noise3.png` and display the noisy and enhanced images in the same figure.**"
   ]
  },
  {
   "cell_type": "code",
   "execution_count": null,
   "metadata": {
    "collapsed": true
   },
   "outputs": [],
   "source": [
    "# remove the noise with the method of your choice\n",
    "\n",
    "\n",
    "# display the noisy and enhanced image\n"
   ]
  },
  {
   "cell_type": "markdown",
   "metadata": {},
   "source": [
    "\n",
    "# 5. Image enhancement in frequency domain"
   ]
  },
  {
   "cell_type": "code",
   "execution_count": null,
   "metadata": {
    "collapsed": true
   },
   "outputs": [],
   "source": [
    "from scipy import fftpack\n",
    "\n",
    "# read noisy image 'periodic.tif' and compute its Fourier transform (see Assignment #2)\n",
    "periodic = io.imread('periodic.tif')\n",
    "periodic_fft = fftpack.fftshift(fftpack.fft2(periodic))\n",
    "\n",
    "# display the noisy image and the magnitude of its Fourier transform in the same figure\n",
    "fig, ax = plt.subplots(1, 2)\n",
    "ax[0].imshow(periodic, cmap=plt.get_cmap('gray'))\n",
    "ax[0].set_title('Periodic perturbation')\n",
    "ax[0].axis('off')\n",
    "ax[1].imshow(np.log(np.abs(periodic_fft)+1), cmap=plt.get_cmap('gray'))\n",
    "ax[1].set_title('Magnitude of the FFT')\n",
    "fig.tight_layout()"
   ]
  },
  {
   "cell_type": "markdown",
   "metadata": {},
   "source": [
    "The image `periodic.tif` contains a periodic, i.e. sinusoidal, perturbation (see e.g. Section 5.2.3 in course book). You task is to remove the noise as well as you can. In practice, this consists of two main steps 1) locating the noise in the frequency domain, and 2) filtering the perturbation frequency using a proper filter."
   ]
  },
  {
   "cell_type": "markdown",
   "metadata": {},
   "source": [
    "Let's take first a look at what a 2D sinusoidal signal looks like in the 2D Fourier space by plotting three signals with different frequencies, `f=2`, `f=4` and `f=8` and their Fourier transforms (FT):"
   ]
  },
  {
   "cell_type": "code",
   "execution_count": null,
   "metadata": {
    "collapsed": true
   },
   "outputs": [],
   "source": [
    "# sample (x,y) image coordinate space linearly\n",
    "nx = 100; ny = 100;\n",
    "x = np.linspace(-1, 1, nx);\n",
    "y = np.linspace(-1, 1, ny); \n",
    "[X, Y] = np.meshgrid(x, y);\n",
    "\n",
    "# plot the three 2D sinusoids and the magnitudes of their FTs\n",
    "fig, ax = plt.subplots(2, 3)\n",
    "\n",
    "f = 2;                 \n",
    "z = np.sin(2*np.pi*f*X);\n",
    "ax[0,0].imshow(z, cmap=plt.get_cmap('gray'))\n",
    "ax[0,0].axis('off')\n",
    "ax[0,0].set_title('sinusoid of frequency f = 2')\n",
    "\n",
    "Z = fftpack.fftshift(fftpack.fft2(z))\n",
    "ax[1,0].imshow((np.abs(Z)+1), cmap=plt.get_cmap('gray'))\n",
    "ax[1,0].axis('off')\n",
    "ax[1,0].set_title('magnitude of the respective FT')\n",
    "\n",
    "f = 4;                 \n",
    "z = np.sin(2*np.pi*f*X);\n",
    "ax[0,1].imshow(z, cmap=plt.get_cmap('gray'))\n",
    "ax[0,1].axis('off')\n",
    "ax[0,1].set_title('sinusoid of frequency f = 4')\n",
    "\n",
    "Z = fftpack.fftshift(fftpack.fft2(z))\n",
    "ax[1,1].imshow((np.abs(Z)+1), cmap=plt.get_cmap('gray'))\n",
    "ax[1,1].axis('off')\n",
    "ax[1,1].set_title('magnitude of the respective FT')\n",
    "\n",
    "f = 8;                 \n",
    "z = np.sin(2*np.pi*f*X);\n",
    "ax[0,2].imshow(z, cmap=plt.get_cmap('gray'))\n",
    "ax[0,2].axis('off')\n",
    "ax[0,2].set_title('sinusoid of frequency f = 8')\n",
    "\n",
    "Z = fftpack.fftshift(fftpack.fft2(z))\n",
    "ax[1,2].imshow((np.abs(Z)+1), cmap=plt.get_cmap('gray'))\n",
    "ax[1,2].axis('off')\n",
    "ax[1,2].set_title('magnitude of the respective FT')\n",
    "fig.tight_layout()"
   ]
  },
  {
   "cell_type": "markdown",
   "metadata": {},
   "source": [
    "As you can see, a horizontal 2D sinusoid corresponds to two horizontal peaks symmetric to the zero frequency in the magnitude of the Fourier domain and the higher the frequency the further away these peaks are from the origo."
   ]
  },
  {
   "cell_type": "markdown",
   "metadata": {},
   "source": [
    "Now, let's take a look at what happens if we rotate the horizontal 2D sinusoid 15, 45 and 75 degrees:"
   ]
  },
  {
   "cell_type": "code",
   "execution_count": null,
   "metadata": {
    "collapsed": true
   },
   "outputs": [],
   "source": [
    "# plot rotated 2D sinusoids and the magnitudes of their FTs\n",
    "fig, ax = plt.subplots(2, 3)\n",
    "\n",
    "theta = 15*np.pi/180;\n",
    "z = np.sin(2*np.pi*f*(Y*np.sin(theta) + X*np.cos(theta)));\n",
    "ax[0,0].imshow(z, cmap=plt.get_cmap('gray'))\n",
    "ax[0,0].axis('off')\n",
    "ax[0,0].set_title('sinusoid tilted at angle 15')\n",
    "\n",
    "Z = fftpack.fftshift(fftpack.fft2(z))\n",
    "ax[1,0].imshow((np.abs(Z)+1), cmap=plt.get_cmap('gray'))\n",
    "ax[1,0].axis('off')\n",
    "ax[1,0].set_title('magnitude of the respective FT')\n",
    "\n",
    "theta = 45*np.pi/180;\n",
    "z = np.sin(2*np.pi*f*(Y*np.sin(theta) + X*np.cos(theta)));\n",
    "ax[0,1].imshow(z, cmap=plt.get_cmap('gray'))\n",
    "ax[0,1].axis('off')\n",
    "ax[0,1].set_title('sinusoid tilted at angle 45')\n",
    "\n",
    "Z = fftpack.fftshift(fftpack.fft2(z))\n",
    "ax[1,1].imshow((np.abs(Z)+1), cmap=plt.get_cmap('gray'))\n",
    "ax[1,1].axis('off')\n",
    "ax[1,1].set_title('magnitude of the respective FT')\n",
    "\n",
    "theta = 75*np.pi/180;\n",
    "z = np.sin(2*np.pi*f*(Y*np.sin(theta) + X*np.cos(theta)));\n",
    "ax[0,2].imshow(z, cmap=plt.get_cmap('gray'))\n",
    "ax[0,2].axis('off')\n",
    "ax[0,2].set_title('sinusoid tilted at angle 75')\n",
    "\n",
    "Z = fftpack.fftshift(fftpack.fft2(z))\n",
    "ax[1,2].imshow((np.abs(Z)+1), cmap=plt.get_cmap('gray'))\n",
    "ax[1,2].axis('off')\n",
    "ax[1,2].set_title('magnitude of the respective FT')\n",
    "fig.tight_layout()"
   ]
  },
  {
   "cell_type": "markdown",
   "metadata": {},
   "source": [
    "Due to the properties of the 2D FT, the corresponding frequency peaks rotate exactly the same manner."
   ]
  },
  {
   "cell_type": "markdown",
   "metadata": {},
   "source": [
    "Now, it should be clear(er) what the periodic perturbation we are dealing with looks like in the FT of the noisy image, i.e. where to look for it. Can you now spot the reason for the periodic perturbation in the spectral image of the image `periodic.tif`?"
   ]
  },
  {
   "cell_type": "code",
   "execution_count": null,
   "metadata": {
    "collapsed": true
   },
   "outputs": [],
   "source": [
    "# display the magnitude of the FT\n",
    "fig, ax = plt.subplots()\n",
    "ax.imshow(np.log(np.abs(periodic_fft)+1), cmap=plt.get_cmap('gray'))\n",
    "ax.set_title('magnitude of the FT of the image periodic.tif')\n",
    "fig.tight_layout()"
   ]
  },
  {
   "cell_type": "markdown",
   "metadata": {},
   "source": [
    "This kind of periodic perturbation should be filtered with a notch filter. However, in the following, an ideal band-reject filter is used for the sake of simplicity. So perform the following operations in the reserved code cells in order to remove the periodic perturbation from the test image.\n",
    "\n",
    "(Please note that you can also implement a notch filter instead if you prefer.)"
   ]
  },
  {
   "cell_type": "markdown",
   "metadata": {},
   "source": [
    "**5.1. Modify the ideal lowpass (or highpass) filter code from Assignment \\#2 to construct an ideal band-reject filter `Hbr` and display band-reject filters with cut-off frequency `D0=0.2` and bandwidths `W=0.05` and `W=0.01` in the same figure.**\n",
    "\n",
    "Hint: See lecture notes or course book what an ideal band-reject filter looks like. An ideal band-reject filter is just a combination of lowpass and highpass filtering, so now you need to combine the conditions `<` and `>` into one filter in order to reject frequencies within the narrow band."
   ]
  },
  {
   "cell_type": "code",
   "execution_count": null,
   "metadata": {
    "collapsed": true
   },
   "outputs": [],
   "source": [
    "# create matrix D with absolute frequency values and size of the FT of the image 'periodic.tif' \n",
    "n = periodic_fft.shape\n",
    "f1 = ( np.arange(0,n[0])-np.floor(n[0]/2) ) * (2./(n[0]))\n",
    "f2 = ( np.arange(0,n[1])-np.floor(n[1]/2) ) * (2./(n[1]))\n",
    "f1, f2 = np.meshgrid(f1, f2)\n",
    "D = np.sqrt(f1**2 + f2**2)\n",
    "\n",
    "# set cut-off frequency 'D0' to 0.2\n",
    "\n",
    "\n",
    "# set the bandwidth 'W' to 0.05\n",
    "\n",
    "\n",
    "# initialize filter matrix 'Hbr' with ones (same size as the fft2 of the test image)\n",
    "\n",
    "\n",
    "# set frequencies > or < the threshold to zero, other remain unaltered\n",
    "\n",
    "\n",
    "# do the same to construct ideal band-reject filter with 'W' of 0.01\n",
    "\n",
    "\n",
    "# display both filters with different bandwidths in the same figure\n"
   ]
  },
  {
   "cell_type": "markdown",
   "metadata": {},
   "source": [
    "**5.2. Find the perturbation frequency in the magnitude of the FT that should be filtered out and filter the noisy image with a band-reject filter having proper `D0` and `W`. Then. display the reconstructed filtered image and the magnitude of its FT in the same figure.**\n",
    "\n",
    "Hint: You should see two sharp peaks in the spectral image which should be filtered out. They are somewhat hard to spot but you should know where to look if you followed the introduction part of this assignment carefully. You can either try to determine the perturbation frequency: \n",
    "\n",
    "1. manually by trial and error, or \n",
    "\n",
    "2. automatically by finding the peak coordinates with __[`skimage.feature.peak_local_max()`](http://scikit-image.org/docs/dev/api/skimage.feature.html#skimage.feature.peak_local_max)__ function and picking the corresponding relative frequency from the frequency matrix `D` based on the found peak locations."
   ]
  },
  {
   "cell_type": "code",
   "execution_count": null,
   "metadata": {
    "collapsed": true
   },
   "outputs": [],
   "source": [
    "# find perturbation frequency 'D0' manually or automatically\n",
    "\n",
    "\n",
    "# create a filter mask 'Hbr' size of the FT of the test image\n",
    "\n",
    "\n",
    "# set frequencies within a _narrow_ reject band 'W' to zero, other remain unaltered\n",
    "\n",
    "\n",
    "# apply the ideal band-reject filter to fft the test image\n",
    "\n",
    "\n",
    "# reconstruct the enhanced image (see Assignment #2)\n",
    "\n",
    "\n",
    "# display the enhanced image and the magnitude of its FT\n"
   ]
  },
  {
   "cell_type": "markdown",
   "metadata": {},
   "source": [
    "**5.3. Finally, display the noisy image `periodic.tif` and the enhanced image in the same figure.**"
   ]
  },
  {
   "cell_type": "code",
   "execution_count": null,
   "metadata": {
    "collapsed": true
   },
   "outputs": [],
   "source": [
    "# display noisy and \"restored\" image\n"
   ]
  },
  {
   "cell_type": "markdown",
   "metadata": {
    "collapsed": true
   },
   "source": [
    "# Aftermath\n",
    "Finally, fill your answers to the following questions:"
   ]
  },
  {
   "cell_type": "markdown",
   "metadata": {},
   "source": [
    "**How much time did you need to complete this exercise?**\n",
    "\n",
    "`REPLACE THIS TEXT WITH YOUR ANSWER.`"
   ]
  },
  {
   "cell_type": "markdown",
   "metadata": {},
   "source": [
    "**Did you experience any problems with the exercise? Was there enough help available? Should this notebook be more (or less) detailed?**\n",
    "\n",
    "`REPLACE THIS TEXT WITH YOUR ANSWER.`"
   ]
  },
  {
   "cell_type": "markdown",
   "metadata": {},
   "source": [
    "# References\n",
    "`LIST YOUR REFERENCES HERE!`"
   ]
  },
  {
   "cell_type": "markdown",
   "metadata": {
    "collapsed": true
   },
   "source": [
    "# Submission\n",
    "\n",
    "1. Click on the menu `Kernel -> Restart & Clear Output` to clear all outputs and variables, etc.\n",
    "2. Compress the resulting Jupyter notebook (`DIP_PA3.ipynb` file) into **`DIP_PA3_[student number(s)].zip`** (e.g. `DIP_PA3_1234567.zip` if solo work or `DIP_PA3_1234567-7654321.zip` if pair work).\n"
   ]
  },
  {
   "cell_type": "code",
   "execution_count": null,
   "metadata": {
    "collapsed": true
   },
   "outputs": [],
   "source": []
  }
 ],
 "metadata": {
  "kernelspec": {
   "display_name": "Python 2",
   "language": "python",
   "name": "python2"
  },
  "language_info": {
   "codemirror_mode": {
    "name": "ipython",
    "version": 2
   },
   "file_extension": ".py",
   "mimetype": "text/x-python",
   "name": "python",
   "nbconvert_exporter": "python",
   "pygments_lexer": "ipython2",
   "version": "2.7.15"
  }
 },
 "nbformat": 4,
 "nbformat_minor": 2
}
