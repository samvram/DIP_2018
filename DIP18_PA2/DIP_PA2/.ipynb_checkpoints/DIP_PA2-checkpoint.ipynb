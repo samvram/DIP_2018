{
 "cells": [
  {
   "cell_type": "code",
   "execution_count": null,
   "metadata": {
    "collapsed": true
   },
   "outputs": [],
   "source": [
    "from skimage import io                    # utilities to read and write images in various formats\n",
    "import numpy as np                        # array manipulation package\n",
    "import matplotlib.pylab as plt            # plotting package\n",
    "%matplotlib inline\n",
    "plt.rcParams['figure.figsize'] = (20, 8)  # set default figure size\n",
    "plt.rcParams['image.cmap'] = 'gray'       # set default colormap to gray"
   ]
  },
  {
   "cell_type": "markdown",
   "metadata": {},
   "source": [
    "# Digital Image Processing - Programming Assignment \\#2\n",
    "\n",
    "The following progamming assignment involves image filtering tasks in frequency domain. The deadline for returning your work is **25 September 2017 at 23:59. Please, follow carefully the submission instructions given in the end of this notebook.** You are encouraged to seek information in other places than the course book and lecture material but remember list all your sources under references.\n",
    "\n",
    "If you experience problems that you cannot solve using the course material, including the provided pre-tutorials, or related Python documentation, or have any questions regarding to the programming assignments in general, please **do not hesitate to contact the course assistant** by e-mail at address `Soumya Sara John <soumyasara100@gmail.com>\n",
    "` or by visiting the office /lab. "
   ]
  },
  {
   "cell_type": "markdown",
   "metadata": {},
   "source": [
    "**At first, fill in your personal details below.**\n",
    "\n",
    "# Personal details:\n",
    "\n",
    "* **Name(s) and student ID(s):** `PUT YOUR NAME(S) AND STUDENT ID(S) HERE.`\n",
    "* **Contact information:** `PUT YOUR EMAIL ADDRESS(ES) HERE.`"
   ]
  },
  {
   "cell_type": "markdown",
   "metadata": {},
   "source": [
    "# 3. Image transforms - lowpass and highpass filtering in frequency domain\n",
    "\n",
    "In the following, you will first perform ideal lowpass and highpass filtering on the test image, and later also Gaussian lowpass and highpass filtering. First, read the part concerning image enhancement in frequency domain in the lecture notes or in the course book.\n",
    "\n",
    "Now, perform the following operations in the reserved code cells and answer to the questions written in bold into the reserved spaces."
   ]
  },
  {
   "cell_type": "markdown",
   "metadata": {},
   "source": [
    "**3.1. Read and display the test image `hplptest.jpg`.**"
   ]
  },
  {
   "cell_type": "code",
   "execution_count": 1,
   "metadata": {},
   "outputs": [],
   "source": [
    "# read test image\n",
    "\n",
    "\n",
    "# display the test image\n"
   ]
  },
  {
   "cell_type": "markdown",
   "metadata": {},
   "source": [
    "**3.2. Compute the Fourier transform (FT) of the test image using __[`scipy.fftpack.fft2()`](https://docs.scipy.org/doc/scipy/reference/generated/scipy.fftpack.fft2.html#scipy.fftpack.fft2)__ function and translate the origin (i.e. low frequencies) of the transformed image to the center of the image\n",
    "using the __[`scipy.fftpack.fftshift()`](https://docs.scipy.org/doc/scipy/reference/generated/scipy.fftpack.fftshift.html#scipy.fftpack.fftshift)__ function after FT. Then, take a look at what the magnitude of the uncentered and centered FT looks like by plotting them into the same figure using `imshow()` function.**\n",
    "\n",
    "Hint: When plotting the FTs, use logarithmic graylevel transformation to make the result more illustrative for human visual system: \n",
    "\n",
    "`>>> np.log(np.abs(image_fft)+1)`\n",
    "\n",
    "Please note that the logarithmic scaling of the magnitude of the FT should be use only for visualization purposes. In the following, filtering tasks should be applied on the original FT!"
   ]
  },
  {
   "cell_type": "code",
   "execution_count": 2,
   "metadata": {},
   "outputs": [],
   "source": [
    "from scipy import fftpack\n",
    "\n",
    "# compute the FT of the test image using 'fftpack.fft2' and its default parameters\n",
    "\n",
    "\n",
    "# translate the origin of the FT (low frequencies) to the center using 'fftpack.fftshift'\n",
    "\n",
    "\n",
    "# display the magnitude of the uncentered and centered FT in the same figure using 'imshow'\n"
   ]
  },
  {
   "cell_type": "markdown",
   "metadata": {},
   "source": [
    "**The code for constructing a ideal lowpass filter is given below:**\n",
    "\n",
    "Hint: Print the help variables if you cannot tell what they represent just by looking at the code."
   ]
  },
  {
   "cell_type": "code",
   "execution_count": 3,
   "metadata": {},
   "outputs": [
    {
     "ename": "NameError",
     "evalue": "name 'np' is not defined",
     "output_type": "error",
     "traceback": [
      "\u001b[1;31m\u001b[0m",
      "\u001b[1;31mNameError\u001b[0mTraceback (most recent call last)",
      "\u001b[1;32m<ipython-input-3-ba89c1419d48>\u001b[0m in \u001b[0;36m<module>\u001b[1;34m()\u001b[0m\n\u001b[0;32m      1\u001b[0m \u001b[1;31m# make two frequency matrices, 'f1' and 'f2', as help variables (frequencies from -1 to almost 1)\u001b[0m\u001b[1;33m\u001b[0m\u001b[1;33m\u001b[0m\u001b[0m\n\u001b[0;32m      2\u001b[0m \u001b[0mn\u001b[0m \u001b[1;33m=\u001b[0m \u001b[1;33m(\u001b[0m\u001b[1;36m500\u001b[0m\u001b[1;33m,\u001b[0m\u001b[1;36m500\u001b[0m\u001b[1;33m)\u001b[0m \u001b[1;31m# same size as the fft2 of the test image\u001b[0m\u001b[1;33m\u001b[0m\u001b[0m\n\u001b[1;32m----> 3\u001b[1;33m \u001b[0mf1\u001b[0m \u001b[1;33m=\u001b[0m \u001b[1;33m(\u001b[0m \u001b[0mnp\u001b[0m\u001b[1;33m.\u001b[0m\u001b[0marange\u001b[0m\u001b[1;33m(\u001b[0m\u001b[1;36m0\u001b[0m\u001b[1;33m,\u001b[0m\u001b[0mn\u001b[0m\u001b[1;33m[\u001b[0m\u001b[1;36m0\u001b[0m\u001b[1;33m]\u001b[0m\u001b[1;33m)\u001b[0m\u001b[1;33m-\u001b[0m\u001b[0mnp\u001b[0m\u001b[1;33m.\u001b[0m\u001b[0mfloor\u001b[0m\u001b[1;33m(\u001b[0m\u001b[0mn\u001b[0m\u001b[1;33m[\u001b[0m\u001b[1;36m0\u001b[0m\u001b[1;33m]\u001b[0m\u001b[1;33m/\u001b[0m\u001b[1;36m2\u001b[0m\u001b[1;33m)\u001b[0m \u001b[1;33m)\u001b[0m \u001b[1;33m*\u001b[0m \u001b[1;33m(\u001b[0m\u001b[1;36m2.\u001b[0m\u001b[1;33m/\u001b[0m\u001b[1;33m(\u001b[0m\u001b[0mn\u001b[0m\u001b[1;33m[\u001b[0m\u001b[1;36m0\u001b[0m\u001b[1;33m]\u001b[0m\u001b[1;33m)\u001b[0m\u001b[1;33m)\u001b[0m\u001b[1;33m\u001b[0m\u001b[0m\n\u001b[0m\u001b[0;32m      4\u001b[0m \u001b[0mf2\u001b[0m \u001b[1;33m=\u001b[0m \u001b[1;33m(\u001b[0m \u001b[0mnp\u001b[0m\u001b[1;33m.\u001b[0m\u001b[0marange\u001b[0m\u001b[1;33m(\u001b[0m\u001b[1;36m0\u001b[0m\u001b[1;33m,\u001b[0m\u001b[0mn\u001b[0m\u001b[1;33m[\u001b[0m\u001b[1;36m1\u001b[0m\u001b[1;33m]\u001b[0m\u001b[1;33m)\u001b[0m\u001b[1;33m-\u001b[0m\u001b[0mnp\u001b[0m\u001b[1;33m.\u001b[0m\u001b[0mfloor\u001b[0m\u001b[1;33m(\u001b[0m\u001b[0mn\u001b[0m\u001b[1;33m[\u001b[0m\u001b[1;36m1\u001b[0m\u001b[1;33m]\u001b[0m\u001b[1;33m/\u001b[0m\u001b[1;36m2\u001b[0m\u001b[1;33m)\u001b[0m \u001b[1;33m)\u001b[0m \u001b[1;33m*\u001b[0m \u001b[1;33m(\u001b[0m\u001b[1;36m2.\u001b[0m\u001b[1;33m/\u001b[0m\u001b[1;33m(\u001b[0m\u001b[0mn\u001b[0m\u001b[1;33m[\u001b[0m\u001b[1;36m1\u001b[0m\u001b[1;33m]\u001b[0m\u001b[1;33m)\u001b[0m\u001b[1;33m)\u001b[0m\u001b[1;33m\u001b[0m\u001b[0m\n\u001b[0;32m      5\u001b[0m \u001b[0mf1\u001b[0m\u001b[1;33m,\u001b[0m \u001b[0mf2\u001b[0m \u001b[1;33m=\u001b[0m \u001b[0mnp\u001b[0m\u001b[1;33m.\u001b[0m\u001b[0mmeshgrid\u001b[0m\u001b[1;33m(\u001b[0m\u001b[0mf1\u001b[0m\u001b[1;33m,\u001b[0m \u001b[0mf2\u001b[0m\u001b[1;33m)\u001b[0m\u001b[1;33m\u001b[0m\u001b[0m\n",
      "\u001b[1;31mNameError\u001b[0m: name 'np' is not defined"
     ]
    }
   ],
   "source": [
    "# make two frequency matrices, 'f1' and 'f2', as help variables (frequencies from -1 to almost 1)\n",
    "n = (500,500) # same size as the fft2 of the test image\n",
    "f1 = ( np.arange(0,n[0])-np.floor(n[0]/2) ) * (2./(n[0]))\n",
    "f2 = ( np.arange(0,n[1])-np.floor(n[1]/2) ) * (2./(n[1]))\n",
    "f1, f2 = np.meshgrid(f1, f2)\n",
    "\n",
    "# make a matrix 'D' with absolute frequency values (“sampled” frequency domain)\n",
    "# where zero-frequency is at D[250,250] and the other values correspond to the absolute distance from it\n",
    "D = np.sqrt(f1**2 + f2**2)\n",
    "\n",
    "# set cut-off frequency 'D0' to 0.2\n",
    "D0 = 0.2;\n",
    "\n",
    "# initialize filter matrix 'Hlp' with ones (same size as the fft2 of the test image)\n",
    "Hlp = np.ones(n)\n",
    "\n",
    "# set frequencies in filter mask 'Hlp' greater than the cut-off frequency 'D0' to zero\n",
    "# other elements remain unaltered\n",
    "Hlp[D>D0] = 0.0"
   ]
  },
  {
   "cell_type": "markdown",
   "metadata": {},
   "source": [
    "**3.3. Modify the lowpass filter code and construct ideal highpass filter `Hhp` with the same cut-off frequency `D0=0.2`. Then, display both ideal lowpass and highpass filter masks in the same figure.**"
   ]
  },
  {
   "cell_type": "code",
   "execution_count": null,
   "metadata": {},
   "outputs": [],
   "source": [
    "# create ideal highpass filter mask 'Hhp'\n",
    "\n",
    "\n",
    "# set frequencies in filter mask 'Hhp' below the cut-off frequency 'D0' to zero\n",
    "\n",
    "\n",
    "# display the filter masks 'Hlp' and 'Hhp' in the same figure\n"
   ]
  },
  {
   "cell_type": "markdown",
   "metadata": {},
   "source": [
    "**3.4. Perform ideal lowpass and highpass filtering in the frequency domain separately to the test image by multiplying the centralized FT of the original image with the `Hlp` and `Hhp` filter masks (element-per-element matrix multiplication). Then, display the magnitude of the two resulting FTs in the same figure.**"
   ]
  },
  {
   "cell_type": "code",
   "execution_count": null,
   "metadata": {
    "collapsed": true
   },
   "outputs": [],
   "source": [
    "# apply ideal lowpass and highpass filtering separately to the test image\n",
    "# i.e. perform element-wise multiplication to the FT of the image with the filter masks\n",
    "\n",
    "\n",
    "# display the magnitude of the resulting FTs\n"
   ]
  },
  {
   "cell_type": "markdown",
   "metadata": {},
   "source": [
    "**3.5. Reconstruct the filtered images with __[`fftpack.ifft2()`](https://docs.scipy.org/doc/scipy/reference/generated/scipy.fftpack.ifft2.html#scipy.fftpack.ifft2)__ and __[`fftpack.ifftshift()`](https://docs.scipy.org/doc/scipy/reference/generated/scipy.fftpack.ifftshift.html#scipy.fftpack.ifftshift)__ in reverse order. Then, display the original image and the two filtered images using `imshow()` in the same figure.** \n",
    "\n",
    "Hint: Due to possible round-off errors, you have to __[take the real part](https://docs.scipy.org/doc/numpy-dev/reference/generated/numpy.real.html#numpy.real)__ of the resulting inverse FT before displaying it with `imshow()`. Please note also that the resulting images contain values beyond the original `uint8` image `[0,255]`, so you need to saturate these values using __[`np.clip()`](https://docs.scipy.org/doc/numpy/reference/generated/numpy.clip.html#numpy.clip)__ before visualization (you can test what the reconstructed images look like without clipping)."
   ]
  },
  {
   "cell_type": "code",
   "execution_count": null,
   "metadata": {
    "collapsed": true
   },
   "outputs": [],
   "source": [
    "# reconstruct the filtered images\n",
    "\n",
    "\n",
    "# take the 'real' part of the resulting images due to possible round-off errors\n",
    "\n",
    "\n",
    "# clip (saturate) values beyond the uint8 range [0,255] \n",
    "\n",
    "\n",
    "# display the original image and its lowpass and highpass filtered images in the same figure\n"
   ]
  },
  {
   "cell_type": "markdown",
   "metadata": {},
   "source": [
    "When performing ideal lowpass and highpass filtering, unwanted artefacts appear to the filtered image. **What is this phenomenon called and why does it occur?**\n",
    "\n",
    "`REPLACE THIS TEXT WITH YOUR ANSWER.`"
   ]
  },
  {
   "cell_type": "markdown",
   "metadata": {},
   "source": [
    "**3.6. Next, construct Gaussian lowpass and highpass filters (`Hlpg` and `Hhpg`) with cut-off frequency `D0=0.2` and display them in the same figure.**\n",
    "\n",
    "Hint: All you need to do is to modify the filter matrix `Hlp` and `Hhp` related lines in the ideal lowpass and highpass filter code snippets accordingly with help of frequency matrix `D` to form `Hlpg` and `Hhpg` (see, formula 4.3-7 course book or lecture notes)."
   ]
  },
  {
   "cell_type": "code",
   "execution_count": null,
   "metadata": {
    "collapsed": true
   },
   "outputs": [],
   "source": [
    "# construct Gaussian lowpass and highpass filters\n",
    "\n",
    "\n",
    "# display the filter masks in the same figure\n"
   ]
  },
  {
   "cell_type": "markdown",
   "metadata": {},
   "source": [
    "**3.7. Perform Gaussian lowpass and highpass filtering separately to the original test image and display the magnitude of the resulting FTs in the same figure.**"
   ]
  },
  {
   "cell_type": "code",
   "execution_count": null,
   "metadata": {
    "collapsed": true
   },
   "outputs": [],
   "source": [
    "# apply gaussian lowpass and highpass filtering to the test image\n",
    "\n",
    "\n",
    "# display the magnitude of the resulting FTs in the same figure\n"
   ]
  },
  {
   "cell_type": "markdown",
   "metadata": {},
   "source": [
    "**3.8. Finally, reconstruct the filtered images just like in step 3.5. and display the original image and the two Gaussian filtered images in the same figure.**"
   ]
  },
  {
   "cell_type": "code",
   "execution_count": null,
   "metadata": {
    "collapsed": true
   },
   "outputs": [],
   "source": [
    "# reconstruct the Gaussian filtered images \n",
    "\n",
    "\n",
    "# display the original image and its Gaussian lowpass and highpass filtered images in the same figure\n"
   ]
  },
  {
   "cell_type": "markdown",
   "metadata": {
    "collapsed": true
   },
   "source": [
    "**Do the unwanted artefacts appear in the Gaussian lowpass filtered image? Why or why not?**\n",
    "\n",
    "`REPLACE THIS TEXT WITH YOUR ANSWER.`"
   ]
  },
  {
   "cell_type": "markdown",
   "metadata": {
    "collapsed": true
   },
   "source": [
    "**What kind of effect does Gaussian (and ideal) lowpass filtering have on images in general? Why? What about highpass filtering? Why?**\n",
    "\n",
    "`REPLACE THIS TEXT WITH YOUR ANSWER.`"
   ]
  },
  {
   "cell_type": "markdown",
   "metadata": {},
   "source": [
    "# Aftermath\n",
    "Finally, fill your answers to the following questions:"
   ]
  },
  {
   "cell_type": "markdown",
   "metadata": {},
   "source": [
    "**How much time did you need to complete this exercise?**\n",
    "\n",
    "`REPLACE THIS TEXT WITH YOUR ANSWER.`"
   ]
  },
  {
   "cell_type": "markdown",
   "metadata": {},
   "source": [
    "**Did you experience any problems with the exercise? Was there enough help available? Should this notebook be more (or less) detailed?**\n",
    "\n",
    "`REPLACE THIS TEXT WITH YOUR ANSWER.`"
   ]
  },
  {
   "cell_type": "markdown",
   "metadata": {},
   "source": [
    "# References\n",
    "`LIST YOUR POSSIBLE REFERENCES HERE!`"
   ]
  },
  {
   "cell_type": "markdown",
   "metadata": {
    "collapsed": true
   },
   "source": [
    "# Submission\n",
    "\n",
    "1. Click on the menu `Kernel -> Restart & Clear Output` to clear all outputs and variables, etc.\n",
    "2. Compress the resulting Jupyter notebook (`DIP_PA2.ipynb` file) into **`DIP_PA2_[student number(s)].zip`** (e.g. `DIP_PA2_1234567.zip` if solo work or `DIP_PA2_1234567-7654321.zip` if pair work)."
   ]
  },
  {
   "cell_type": "code",
   "execution_count": null,
   "metadata": {
    "collapsed": true
   },
   "outputs": [],
   "source": []
  }
 ],
 "metadata": {
  "kernelspec": {
   "display_name": "Python 2",
   "language": "python",
   "name": "python2"
  },
  "language_info": {
   "codemirror_mode": {
    "name": "ipython",
    "version": 2
   },
   "file_extension": ".py",
   "mimetype": "text/x-python",
   "name": "python",
   "nbconvert_exporter": "python",
   "pygments_lexer": "ipython2",
   "version": "2.7.15"
  }
 },
 "nbformat": 4,
 "nbformat_minor": 2
}
